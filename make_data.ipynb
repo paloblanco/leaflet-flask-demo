{
 "cells": [
  {
   "cell_type": "code",
   "execution_count": 1,
   "metadata": {},
   "outputs": [],
   "source": [
    "import pandas as pd\n",
    "import sqlite3\n"
   ]
  },
  {
   "cell_type": "code",
   "execution_count": 13,
   "metadata": {},
   "outputs": [
    {
     "data": {
      "text/html": [
       "<div>\n",
       "<style scoped>\n",
       "    .dataframe tbody tr th:only-of-type {\n",
       "        vertical-align: middle;\n",
       "    }\n",
       "\n",
       "    .dataframe tbody tr th {\n",
       "        vertical-align: top;\n",
       "    }\n",
       "\n",
       "    .dataframe thead th {\n",
       "        text-align: right;\n",
       "    }\n",
       "</style>\n",
       "<table border=\"1\" class=\"dataframe\">\n",
       "  <thead>\n",
       "    <tr style=\"text-align: right;\">\n",
       "      <th></th>\n",
       "      <th>name</th>\n",
       "      <th>population</th>\n",
       "      <th>rowid</th>\n",
       "      <th>lat</th>\n",
       "      <th>lon</th>\n",
       "    </tr>\n",
       "  </thead>\n",
       "  <tbody>\n",
       "    <tr>\n",
       "      <th>0</th>\n",
       "      <td>New York</td>\n",
       "      <td>8804190</td>\n",
       "      <td>0</td>\n",
       "      <td>40.7128</td>\n",
       "      <td>-74.0059</td>\n",
       "    </tr>\n",
       "    <tr>\n",
       "      <th>1</th>\n",
       "      <td>Chicago</td>\n",
       "      <td>2746388</td>\n",
       "      <td>1</td>\n",
       "      <td>41.8781</td>\n",
       "      <td>-87.6298</td>\n",
       "    </tr>\n",
       "    <tr>\n",
       "      <th>2</th>\n",
       "      <td>Houston</td>\n",
       "      <td>2304580</td>\n",
       "      <td>2</td>\n",
       "      <td>29.7604</td>\n",
       "      <td>-95.3698</td>\n",
       "    </tr>\n",
       "    <tr>\n",
       "      <th>3</th>\n",
       "      <td>Los Angeles</td>\n",
       "      <td>3898747</td>\n",
       "      <td>3</td>\n",
       "      <td>34.0522</td>\n",
       "      <td>-118.2437</td>\n",
       "    </tr>\n",
       "    <tr>\n",
       "      <th>4</th>\n",
       "      <td>Omaha</td>\n",
       "      <td>486051</td>\n",
       "      <td>4</td>\n",
       "      <td>41.2524</td>\n",
       "      <td>-95.9980</td>\n",
       "    </tr>\n",
       "  </tbody>\n",
       "</table>\n",
       "</div>"
      ],
      "text/plain": [
       "          name  population  rowid      lat       lon\n",
       "0     New York     8804190      0  40.7128  -74.0059\n",
       "1      Chicago     2746388      1  41.8781  -87.6298\n",
       "2      Houston     2304580      2  29.7604  -95.3698\n",
       "3  Los Angeles     3898747      3  34.0522 -118.2437\n",
       "4        Omaha      486051      4  41.2524  -95.9980"
      ]
     },
     "execution_count": 13,
     "metadata": {},
     "output_type": "execute_result"
    }
   ],
   "source": [
    "data = [\n",
    "  {\n",
    "    \"name\": \"New York\",\n",
    "    \"location\": [40.7128, -74.0059],\n",
    "    \"population\": 8804190\n",
    "  },\n",
    "  {\n",
    "    \"name\": \"Chicago\",\n",
    "    \"location\": [41.8781, -87.6298],\n",
    "    \"population\": 2746388\n",
    "  },\n",
    "  {\n",
    "    \"name\": \"Houston\",\n",
    "    \"location\": [29.7604, -95.3698],\n",
    "    \"population\": 2304580\n",
    "  },\n",
    "  {\n",
    "    \"name\": \"Los Angeles\",\n",
    "    \"location\": [34.0522, -118.2437],\n",
    "    \"population\": 3898747\n",
    "  },\n",
    "  {\n",
    "    \"name\": \"Omaha\",\n",
    "    \"location\": [41.2524, -95.9980],\n",
    "    \"population\": 486051\n",
    "  }\n",
    "]\n",
    "\n",
    "data_df = pd.DataFrame(data)\n",
    "data_df[\"rowid\"] = data_df.index\n",
    "data_df[\"lat\"] = data_df.location.apply(lambda x: x[0])\n",
    "data_df[\"lon\"] = data_df.location.apply(lambda x: x[1])\n",
    "data_df.drop(\"location\",axis=1,inplace=True)\n",
    "data_df.head(10)"
   ]
  },
  {
   "cell_type": "code",
   "execution_count": 15,
   "metadata": {},
   "outputs": [],
   "source": [
    "cnxn = sqlite3.connect(r\"data/cities.sqlite\")\n",
    "crsr = cnxn.cursor()\n",
    "\n",
    "create_statement = \"\"\"\n",
    "CREATE TABLE cities (\n",
    "rowid integer PRIMARY KEY,\n",
    "name text,\n",
    "population integer,\n",
    "lat real,\n",
    "lon real\n",
    ");\n",
    "\"\"\"\n",
    "crsr.execute(create_statement)\n",
    "data_df.to_sql(\"cities\",cnxn,index=False, if_exists=\"append\")\n",
    "\n",
    "cnxn.close()"
   ]
  },
  {
   "cell_type": "code",
   "execution_count": 17,
   "metadata": {},
   "outputs": [
    {
     "data": {
      "text/plain": [
       "{'index': [0, 1, 2, 3, 4],\n",
       " 'columns': ['name', 'population', 'rowid', 'lat', 'lon'],\n",
       " 'data': [['New York', 8804190, 0, 40.7128, -74.0059],\n",
       "  ['Chicago', 2746388, 1, 41.8781, -87.6298],\n",
       "  ['Houston', 2304580, 2, 29.7604, -95.3698],\n",
       "  ['Los Angeles', 3898747, 3, 34.0522, -118.2437],\n",
       "  ['Omaha', 486051, 4, 41.2524, -95.998]]}"
      ]
     },
     "execution_count": 17,
     "metadata": {},
     "output_type": "execute_result"
    }
   ],
   "source": [
    "data_df.to_dict('split')"
   ]
  },
  {
   "cell_type": "code",
   "execution_count": null,
   "metadata": {},
   "outputs": [],
   "source": []
  }
 ],
 "metadata": {
  "kernelspec": {
   "display_name": "base",
   "language": "python",
   "name": "python3"
  },
  "language_info": {
   "codemirror_mode": {
    "name": "ipython",
    "version": 3
   },
   "file_extension": ".py",
   "mimetype": "text/x-python",
   "name": "python",
   "nbconvert_exporter": "python",
   "pygments_lexer": "ipython3",
   "version": "3.9.13"
  },
  "orig_nbformat": 4
 },
 "nbformat": 4,
 "nbformat_minor": 2
}
